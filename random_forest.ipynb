{
 "cells": [
  {
   "cell_type": "code",
   "execution_count": 11,
   "metadata": {},
   "outputs": [],
   "source": [
    "import pandas as pd\n",
    "import numpy as np\n",
    "import matplotlib.pyplot as plt\n",
    "from sklearn.model_selection import train_test_split\n",
    "from sklearn.tree import DecisionTreeClassifier\n",
    "from sklearn.metrics import accuracy_score\n",
    "from sklearn.ensemble import RandomForestClassifier\n",
    "RANDOM_STATE = 42"
   ]
  },
  {
   "cell_type": "code",
   "execution_count": 12,
   "metadata": {},
   "outputs": [],
   "source": [
    "dataset1 = 'Small_Datasets/2-wayEpi_100feat.txt'\n",
    "dataset2 = 'Small_Datasets/4-wayAdditive_100feat.txt'\n",
    "dataset3 = 'Small_Datasets/2Additive_2-wayEpi_100feat.txt'\n",
    "dataset4 = 'Small_Datasets/4-wayHeterogeneous_100feat.txt'\n",
    "df = pd.read_csv(dataset2, sep='\\t', )"
   ]
  },
  {
   "cell_type": "code",
   "execution_count": 13,
   "metadata": {},
   "outputs": [
    {
     "data": {
      "text/html": [
       "<div>\n",
       "<style scoped>\n",
       "    .dataframe tbody tr th:only-of-type {\n",
       "        vertical-align: middle;\n",
       "    }\n",
       "\n",
       "    .dataframe tbody tr th {\n",
       "        vertical-align: top;\n",
       "    }\n",
       "\n",
       "    .dataframe thead th {\n",
       "        text-align: right;\n",
       "    }\n",
       "</style>\n",
       "<table border=\"1\" class=\"dataframe\">\n",
       "  <thead>\n",
       "    <tr style=\"text-align: right;\">\n",
       "      <th></th>\n",
       "      <th>N0</th>\n",
       "      <th>N1</th>\n",
       "      <th>N2</th>\n",
       "      <th>N3</th>\n",
       "      <th>N4</th>\n",
       "      <th>N5</th>\n",
       "      <th>N6</th>\n",
       "      <th>N7</th>\n",
       "      <th>N8</th>\n",
       "      <th>N9</th>\n",
       "      <th>...</th>\n",
       "      <th>N91</th>\n",
       "      <th>N92</th>\n",
       "      <th>N93</th>\n",
       "      <th>N94</th>\n",
       "      <th>N95</th>\n",
       "      <th>M0P1</th>\n",
       "      <th>M1P2</th>\n",
       "      <th>M2P3</th>\n",
       "      <th>M3P4</th>\n",
       "      <th>Class</th>\n",
       "    </tr>\n",
       "  </thead>\n",
       "  <tbody>\n",
       "    <tr>\n",
       "      <th>0</th>\n",
       "      <td>0</td>\n",
       "      <td>1</td>\n",
       "      <td>2</td>\n",
       "      <td>1</td>\n",
       "      <td>1</td>\n",
       "      <td>0</td>\n",
       "      <td>1</td>\n",
       "      <td>0</td>\n",
       "      <td>1</td>\n",
       "      <td>0</td>\n",
       "      <td>...</td>\n",
       "      <td>1</td>\n",
       "      <td>0</td>\n",
       "      <td>0</td>\n",
       "      <td>1</td>\n",
       "      <td>0</td>\n",
       "      <td>1</td>\n",
       "      <td>0</td>\n",
       "      <td>2</td>\n",
       "      <td>0</td>\n",
       "      <td>1</td>\n",
       "    </tr>\n",
       "    <tr>\n",
       "      <th>1</th>\n",
       "      <td>0</td>\n",
       "      <td>0</td>\n",
       "      <td>2</td>\n",
       "      <td>1</td>\n",
       "      <td>1</td>\n",
       "      <td>0</td>\n",
       "      <td>0</td>\n",
       "      <td>0</td>\n",
       "      <td>1</td>\n",
       "      <td>1</td>\n",
       "      <td>...</td>\n",
       "      <td>2</td>\n",
       "      <td>1</td>\n",
       "      <td>1</td>\n",
       "      <td>1</td>\n",
       "      <td>2</td>\n",
       "      <td>0</td>\n",
       "      <td>1</td>\n",
       "      <td>1</td>\n",
       "      <td>2</td>\n",
       "      <td>1</td>\n",
       "    </tr>\n",
       "    <tr>\n",
       "      <th>2</th>\n",
       "      <td>0</td>\n",
       "      <td>1</td>\n",
       "      <td>0</td>\n",
       "      <td>1</td>\n",
       "      <td>0</td>\n",
       "      <td>0</td>\n",
       "      <td>0</td>\n",
       "      <td>2</td>\n",
       "      <td>0</td>\n",
       "      <td>0</td>\n",
       "      <td>...</td>\n",
       "      <td>0</td>\n",
       "      <td>1</td>\n",
       "      <td>1</td>\n",
       "      <td>1</td>\n",
       "      <td>1</td>\n",
       "      <td>2</td>\n",
       "      <td>0</td>\n",
       "      <td>2</td>\n",
       "      <td>0</td>\n",
       "      <td>1</td>\n",
       "    </tr>\n",
       "    <tr>\n",
       "      <th>3</th>\n",
       "      <td>0</td>\n",
       "      <td>1</td>\n",
       "      <td>0</td>\n",
       "      <td>1</td>\n",
       "      <td>2</td>\n",
       "      <td>1</td>\n",
       "      <td>1</td>\n",
       "      <td>2</td>\n",
       "      <td>1</td>\n",
       "      <td>1</td>\n",
       "      <td>...</td>\n",
       "      <td>1</td>\n",
       "      <td>0</td>\n",
       "      <td>0</td>\n",
       "      <td>2</td>\n",
       "      <td>1</td>\n",
       "      <td>0</td>\n",
       "      <td>1</td>\n",
       "      <td>2</td>\n",
       "      <td>1</td>\n",
       "      <td>1</td>\n",
       "    </tr>\n",
       "    <tr>\n",
       "      <th>4</th>\n",
       "      <td>0</td>\n",
       "      <td>0</td>\n",
       "      <td>2</td>\n",
       "      <td>0</td>\n",
       "      <td>1</td>\n",
       "      <td>0</td>\n",
       "      <td>0</td>\n",
       "      <td>1</td>\n",
       "      <td>0</td>\n",
       "      <td>0</td>\n",
       "      <td>...</td>\n",
       "      <td>0</td>\n",
       "      <td>1</td>\n",
       "      <td>0</td>\n",
       "      <td>1</td>\n",
       "      <td>1</td>\n",
       "      <td>0</td>\n",
       "      <td>1</td>\n",
       "      <td>2</td>\n",
       "      <td>1</td>\n",
       "      <td>1</td>\n",
       "    </tr>\n",
       "  </tbody>\n",
       "</table>\n",
       "<p>5 rows × 101 columns</p>\n",
       "</div>"
      ],
      "text/plain": [
       "   N0  N1  N2  N3  N4  N5  N6  N7  N8  N9  ...  N91  N92  N93  N94  N95  M0P1  \\\n",
       "0   0   1   2   1   1   0   1   0   1   0  ...    1    0    0    1    0     1   \n",
       "1   0   0   2   1   1   0   0   0   1   1  ...    2    1    1    1    2     0   \n",
       "2   0   1   0   1   0   0   0   2   0   0  ...    0    1    1    1    1     2   \n",
       "3   0   1   0   1   2   1   1   2   1   1  ...    1    0    0    2    1     0   \n",
       "4   0   0   2   0   1   0   0   1   0   0  ...    0    1    0    1    1     0   \n",
       "\n",
       "   M1P2  M2P3  M3P4  Class  \n",
       "0     0     2     0      1  \n",
       "1     1     1     2      1  \n",
       "2     0     2     0      1  \n",
       "3     1     2     1      1  \n",
       "4     1     2     1      1  \n",
       "\n",
       "[5 rows x 101 columns]"
      ]
     },
     "execution_count": 13,
     "metadata": {},
     "output_type": "execute_result"
    }
   ],
   "source": [
    "df.head()"
   ]
  },
  {
   "cell_type": "code",
   "execution_count": 14,
   "metadata": {},
   "outputs": [
    {
     "data": {
      "text/plain": [
       "M0P1  M1P2  M2P3  M3P4  Class\n",
       "0     0     0     0     0         2\n",
       "                        1         4\n",
       "                  1     1         6\n",
       "                  2     0         1\n",
       "                        1        18\n",
       "                                 ..\n",
       "2     2     0     0     0        49\n",
       "                  1     0        28\n",
       "            1     0     0        28\n",
       "                  1     0         9\n",
       "            2     0     0         1\n",
       "Name: count, Length: 84, dtype: int64"
      ]
     },
     "execution_count": 14,
     "metadata": {},
     "output_type": "execute_result"
    }
   ],
   "source": [
    "# Create new dataframe with only the features M0P1 and Class\n",
    "df[['M0P1', 'M1P2', 'M2P3', 'M3P4', 'Class']].groupby(['M0P1', 'M1P2', 'M2P3', 'M3P4', 'Class']).value_counts()"
   ]
  },
  {
   "cell_type": "code",
   "execution_count": 15,
   "metadata": {},
   "outputs": [
    {
     "data": {
      "text/plain": [
       "Index(['N0', 'N1', 'N2', 'N3', 'N4', 'N5', 'N6', 'N7', 'N8', 'N9',\n",
       "       ...\n",
       "       'N91', 'N92', 'N93', 'N94', 'N95', 'M0P1', 'M1P2', 'M2P3', 'M3P4',\n",
       "       'Class'],\n",
       "      dtype='object', length=101)"
      ]
     },
     "execution_count": 15,
     "metadata": {},
     "output_type": "execute_result"
    }
   ],
   "source": [
    "# print all the columns\n",
    "df.columns"
   ]
  },
  {
   "cell_type": "code",
   "execution_count": 16,
   "metadata": {},
   "outputs": [],
   "source": [
    "features = [feature for feature in df.columns if feature != 'Class']"
   ]
  },
  {
   "cell_type": "code",
   "execution_count": 17,
   "metadata": {},
   "outputs": [],
   "source": [
    "x_train, x_test, y_train, y_test = train_test_split(df[features], df['Class'], train_size=0.8, random_state=42)"
   ]
  },
  {
   "cell_type": "code",
   "execution_count": 18,
   "metadata": {},
   "outputs": [
    {
     "data": {
      "text/plain": [
       "29     0\n",
       "535    0\n",
       "695    1\n",
       "557    0\n",
       "836    1\n",
       "      ..\n",
       "106    0\n",
       "270    0\n",
       "860    1\n",
       "435    1\n",
       "102    0\n",
       "Name: N0, Length: 800, dtype: int64"
      ]
     },
     "execution_count": 18,
     "metadata": {},
     "output_type": "execute_result"
    }
   ],
   "source": [
    "x_train['N0']"
   ]
  },
  {
   "cell_type": "code",
   "execution_count": 19,
   "metadata": {},
   "outputs": [],
   "source": [
    "# # Train a decision tree model with 4 features from the dataset\n",
    "# feature = 'M2P3'\n",
    "# feature4 = 'M1P2'\n",
    "# feature3 = 'M0P1'\n",
    "# for feature2 in features:\n",
    "#         if feature == feature2 or feature == feature3 or feature2 == feature3:\n",
    "#                 continue\n",
    "#         model = RandomForestClassifier(max_depth = 4, random_state = 42).fit(x_train[[feature, feature2, feature3, 'M1P2']],y_train)\n",
    "#         prediction_train = model.predict(x_train[[feature, feature2, feature3, 'M1P2']])\n",
    "#         # Find accuracy score\n",
    "#         Accuracy_Score = accuracy_score(prediction_train, y_train)\n",
    "#         if Accuracy_Score > 0.94:\n",
    "#                 print(f\"Feature trained: {feature}, {feature2}, {feature3}, Metrics train:\\n\\tAccuracy score: {Accuracy_Score:.4f}\")\n",
    "#                 #Print feature importance\n",
    "#                 print(f\"Feature importance: {model.feature_importances_}\")"
   ]
  },
  {
   "cell_type": "code",
   "execution_count": 20,
   "metadata": {},
   "outputs": [
    {
     "name": "stdout",
     "output_type": "stream",
     "text": [
      "Feature importance:[0.00000000e+00 2.31425812e-03 0.00000000e+00 4.83432596e-03\n",
      " 3.93212129e-03 0.00000000e+00 1.14688317e-02 0.00000000e+00\n",
      " 4.63832516e-04 6.51468808e-03 9.75000453e-04 0.00000000e+00\n",
      " 0.00000000e+00 1.44900774e-02 1.46448395e-02 1.44219838e-03\n",
      " 4.95584634e-03 0.00000000e+00 2.94829607e-04 1.21539599e-04\n",
      " 0.00000000e+00 0.00000000e+00 2.94831710e-03 2.43144578e-02\n",
      " 0.00000000e+00 1.68772311e-04 1.18265428e-02 2.82033483e-03\n",
      " 0.00000000e+00 1.47097985e-02 7.21061839e-03 0.00000000e+00\n",
      " 2.60062915e-04 4.28872527e-04 0.00000000e+00 0.00000000e+00\n",
      " 0.00000000e+00 0.00000000e+00 0.00000000e+00 1.69801280e-02\n",
      " 7.27244441e-03 9.91404798e-04 0.00000000e+00 1.53492472e-03\n",
      " 3.74472267e-03 0.00000000e+00 0.00000000e+00 0.00000000e+00\n",
      " 0.00000000e+00 1.35379247e-02 1.44999857e-02 7.02631954e-03\n",
      " 1.15034623e-03 0.00000000e+00 0.00000000e+00 0.00000000e+00\n",
      " 5.13560454e-04 7.85830554e-03 0.00000000e+00 0.00000000e+00\n",
      " 1.14893135e-03 1.58155255e-03 0.00000000e+00 0.00000000e+00\n",
      " 1.17366189e-02 4.82483211e-03 5.78439702e-03 1.20298850e-02\n",
      " 6.85527923e-03 5.33793351e-03 4.57617127e-04 4.36806212e-03\n",
      " 5.93392795e-03 8.06088957e-03 0.00000000e+00 1.79625934e-02\n",
      " 1.39200436e-03 0.00000000e+00 6.68152590e-04 8.20893143e-04\n",
      " 0.00000000e+00 0.00000000e+00 0.00000000e+00 5.07997283e-04\n",
      " 0.00000000e+00 2.63801722e-03 0.00000000e+00 2.64582323e-03\n",
      " 0.00000000e+00 2.28235027e-02 4.02221548e-03 2.87726447e-04\n",
      " 6.62279676e-04 3.57848575e-04 0.00000000e+00 8.19264474e-04\n",
      " 1.16733213e-01 1.55365864e-01 2.19931462e-01 1.77990983e-01]\n"
     ]
    }
   ],
   "source": [
    "random_forest_model = RandomForestClassifier(n_estimators=50,\n",
    "                                             max_depth=4, \n",
    "                                             min_samples_split=200,\n",
    "                                             random_state=RANDOM_STATE).fit(x_train, y_train)\n",
    "# Print feature importance\n",
    "featureImportance = random_forest_model.feature_importances_\n",
    "print(f\"Feature importance:{featureImportance}\")\n",
    "# Print feature importance feature if feature importance is greater than 0.1\n",
    "# for i in range(len(featureImportance)):\n",
    "#     if featureImportance[i] > 0.1:\n",
    "#         print(f\"Feature importance: {featureImportance[i]:.4f} for feature: {features[i]}\")\n",
    "\n",
    "# Plot feature importance of top 10 features\n",
    "# plt.figure()\n",
    "# plt.title(\"Feature importances\")\n",
    "# plt.bar(range(10), featureImportance, align=\"center\")\n",
    "# plt.xticks(range(10), features, rotation=90)\n",
    "# plt.xlim([-1, 10])\n",
    "# plt.show()\n",
    "\n"
   ]
  },
  {
   "cell_type": "code",
   "execution_count": 21,
   "metadata": {},
   "outputs": [
    {
     "name": "stdout",
     "output_type": "stream",
     "text": [
      "Training accuracy score: 0.9500\n",
      "Testing accuracy score: 0.8950\n"
     ]
    }
   ],
   "source": [
    "print(f\"Training accuracy score: {accuracy_score(random_forest_model.predict(x_train),y_train):.4f}\\nTesting accuracy score: {accuracy_score(random_forest_model.predict(x_test),y_test):.4f}\")"
   ]
  },
  {
   "cell_type": "code",
   "execution_count": 22,
   "metadata": {},
   "outputs": [
    {
     "data": {
      "image/png": "[encoded data removed]",
      "text/plain": [
       "<Figure size 1000x700 with 2 Axes>"
      ]
     },
     "metadata": {},
     "output_type": "display_data"
    }
   ],
   "source": [
    "# draw confusion matrix\n",
    "from sklearn.metrics import confusion_matrix\n",
    "import seaborn as sns\n",
    "import matplotlib.pyplot as plt\n",
    "\n",
    "conf_matrix = confusion_matrix(y_test, random_forest_model.predict(x_test))\n",
    "plt.figure(figsize=(10, 7))\n",
    "sns.heatmap(conf_matrix, annot=True, fmt=\"d\")\n",
    "plt.xlabel('Predicted')\n",
    "plt.ylabel('Actual')\n",
    "plt.title('Confusion Matrix')\n",
    "plt.show()\n"
   ]
  },
  {
   "cell_type": "code",
   "execution_count": null,
   "metadata": {},
   "outputs": [],
   "source": []
  }
 ],
 "metadata": {
  "kernelspec": {
   "display_name": "masters_project",
   "language": "python",
   "name": "python3"
  },
  "language_info": {
   "codemirror_mode": {
    "name": "ipython",
    "version": 3
   },
   "file_extension": ".py",
   "mimetype": "text/x-python",
   "name": "python",
   "nbconvert_exporter": "python",
   "pygments_lexer": "ipython3",
   "version": "3.11.5"
  },
  "orig_nbformat": 4
 },
 "nbformat": 4,
 "nbformat_minor": 2
}
